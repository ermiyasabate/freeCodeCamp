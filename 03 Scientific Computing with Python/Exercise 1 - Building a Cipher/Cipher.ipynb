{
 "cells": [
  {
   "cell_type": "markdown",
   "metadata": {},
   "source": [
    "> ### Step 1\n",
    ">\n",
    "> - Variables are an essential part of Python and any programming language.\n",
    "> - A variable is a name that references or points to an object.\n",
    "> - We can declare a variable by using the assignment operator = to assign a value like this:\n",
    ">\n",
    "> *variable_name = value*\n",
    "\n",
    "**Question**\n",
    "```\n",
    "Create a variable called number and assign it the value 5.\n",
    "```"
   ]
  },
  {
   "cell_type": "code",
   "execution_count": 1,
   "metadata": {},
   "outputs": [],
   "source": [
    "number = 5"
   ]
  },
  {
   "cell_type": "markdown",
   "metadata": {},
   "source": [
    "> ### Step 2\n",
    "> Variables can store values of different data types. \n",
    "> We just assigned an integer value, but if you want to represent some text, we need to assign a string. <br> Strings are sequences of characters enclosed by single or double quotes <br> We cannot start a string with a single quote and end it with a double quote or vice versa:\n",
    ">\n",
    "> string_1 = \"I am a string\" <br>\n",
    "> string_2 = 'I am also a string' <br>\n",
    "> string_3 = 'This is not valid\" <br>\n",
    ">\n",
    "**Question**\n",
    "```\n",
    "Delete your number variable and its value. Then, declare another variable called text and assign the string Hello World to this variable.\n",
    "```"
   ]
  },
  {
   "cell_type": "code",
   "execution_count": 3,
   "metadata": {},
   "outputs": [],
   "source": [
    "text = \"Hello World\""
   ]
  },
  {
   "cell_type": "markdown",
   "metadata": {},
   "source": [
    "> ### Step 3\n",
    "> We can use the built-in function print() to print the output of our code on the terminal.<br>\n",
    "> Functions are reusable code blocks that we can call (run) when we need them. To call a function, we just need to write a pair of parentheses next to its name.\n",
    "\n",
    "**Question**\n",
    "```\n",
    "Print your text variable to the screen by including the variable name between the opening and closing parentheses of the print() function.\n",
    "```"
   ]
  },
  {
   "cell_type": "code",
   "execution_count": 1,
   "metadata": {},
   "outputs": [
    {
     "name": "stdout",
     "output_type": "stream",
     "text": [
      "Hello World\n"
     ]
    }
   ],
   "source": [
    "text = \"Hello World\"\n",
    "print(text)"
   ]
  },
  {
   "cell_type": "markdown",
   "metadata": {},
   "source": [
    "> ### Step 4\n",
    "> Each string character can be referenced by a numerical index. The index count starts at zero. So the first character of a string has an index of 0.\n",
    "\n",
    "**Question**\n",
    "```\n",
    "Now, instead of printing text, print just the character at index 6.\n",
    "```"
   ]
  },
  {
   "cell_type": "code",
   "execution_count": 2,
   "metadata": {},
   "outputs": [
    {
     "name": "stdout",
     "output_type": "stream",
     "text": [
      "W\n"
     ]
    }
   ],
   "source": [
    "print(text[6])"
   ]
  },
  {
   "cell_type": "markdown",
   "metadata": {},
   "source": [
    "> ### Step 5\n",
    "> We can also access string characters starting from the end of the string. The last character has an index of -1, the second to last -2 and so on. \n",
    "> \n",
    "**Question**\n",
    "```\n",
    "Now modify your existing print() call to print the last character in your string\n",
    "```"
   ]
  },
  {
   "cell_type": "code",
   "execution_count": 3,
   "metadata": {},
   "outputs": [
    {
     "name": "stdout",
     "output_type": "stream",
     "text": [
      "d\n"
     ]
    }
   ],
   "source": [
    "print(text[-1])"
   ]
  },
  {
   "cell_type": "code",
   "execution_count": null,
   "metadata": {},
   "outputs": [],
   "source": []
  }
 ],
 "metadata": {
  "kernelspec": {
   "display_name": "Python 3",
   "language": "python",
   "name": "python3"
  },
  "language_info": {
   "codemirror_mode": {
    "name": "ipython",
    "version": 3
   },
   "file_extension": ".py",
   "mimetype": "text/x-python",
   "name": "python",
   "nbconvert_exporter": "python",
   "pygments_lexer": "ipython3",
   "version": "3.12.1"
  }
 },
 "nbformat": 4,
 "nbformat_minor": 2
}
